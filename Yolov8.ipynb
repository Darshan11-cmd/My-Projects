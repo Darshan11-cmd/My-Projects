{
  "nbformat": 4,
  "nbformat_minor": 0,
  "metadata": {
    "colab": {
      "provenance": [],
      "gpuType": "T4",
      "mount_file_id": "1Ralk3unK3KdV2frP2SiIntdfglrwcwyr",
      "authorship_tag": "ABX9TyPtvuXJLt8Pa2Eaom2rWHkM",
      "include_colab_link": true
    },
    "kernelspec": {
      "name": "python3",
      "display_name": "Python 3"
    },
    "language_info": {
      "name": "python"
    },
    "accelerator": "GPU"
  },
  "cells": [
    {
      "cell_type": "markdown",
      "metadata": {
        "id": "view-in-github",
        "colab_type": "text"
      },
      "source": [
        "<a href=\"https://colab.research.google.com/github/Darshan11-cmd/My-Projects/blob/main/Yolov8.ipynb\" target=\"_parent\"><img src=\"https://colab.research.google.com/assets/colab-badge.svg\" alt=\"Open In Colab\"/></a>"
      ]
    },
    {
      "cell_type": "code",
      "execution_count": null,
      "metadata": {
        "colab": {
          "base_uri": "https://localhost:8080/"
        },
        "id": "GhQltVsnxJrL",
        "outputId": "8d7eaff8-13ff-4a3e-8262-24116784f9fa"
      },
      "outputs": [
        {
          "output_type": "stream",
          "name": "stdout",
          "text": [
            "Thu Mar 14 07:04:00 2024       \n",
            "+---------------------------------------------------------------------------------------+\n",
            "| NVIDIA-SMI 535.104.05             Driver Version: 535.104.05   CUDA Version: 12.2     |\n",
            "|-----------------------------------------+----------------------+----------------------+\n",
            "| GPU  Name                 Persistence-M | Bus-Id        Disp.A | Volatile Uncorr. ECC |\n",
            "| Fan  Temp   Perf          Pwr:Usage/Cap |         Memory-Usage | GPU-Util  Compute M. |\n",
            "|                                         |                      |               MIG M. |\n",
            "|=========================================+======================+======================|\n",
            "|   0  Tesla T4                       Off | 00000000:00:04.0 Off |                    0 |\n",
            "| N/A   51C    P8              10W /  70W |      0MiB / 15360MiB |      0%      Default |\n",
            "|                                         |                      |                  N/A |\n",
            "+-----------------------------------------+----------------------+----------------------+\n",
            "                                                                                         \n",
            "+---------------------------------------------------------------------------------------+\n",
            "| Processes:                                                                            |\n",
            "|  GPU   GI   CI        PID   Type   Process name                            GPU Memory |\n",
            "|        ID   ID                                                             Usage      |\n",
            "|=======================================================================================|\n",
            "|  No running processes found                                                           |\n",
            "+---------------------------------------------------------------------------------------+\n"
          ]
        }
      ],
      "source": [
        "!nvidia-smi\n"
      ]
    },
    {
      "cell_type": "code",
      "source": [
        "pip install ultralytics"
      ],
      "metadata": {
        "colab": {
          "base_uri": "https://localhost:8080/"
        },
        "id": "I9MWGJHdtUt0",
        "outputId": "27b84912-099b-45d9-8ff1-ad2f1638ab36"
      },
      "execution_count": 1,
      "outputs": [
        {
          "output_type": "stream",
          "name": "stdout",
          "text": [
            "Collecting ultralytics\n",
            "  Downloading ultralytics-8.2.4-py3-none-any.whl (752 kB)\n",
            "\u001b[2K     \u001b[90m━━━━━━━━━━━━━━━━━━━━━━━━━━━━━━━━━━━━━━━━\u001b[0m \u001b[32m752.1/752.1 kB\u001b[0m \u001b[31m4.1 MB/s\u001b[0m eta \u001b[36m0:00:00\u001b[0m\n",
            "\u001b[?25hRequirement already satisfied: matplotlib>=3.3.0 in /usr/local/lib/python3.10/dist-packages (from ultralytics) (3.7.1)\n",
            "Requirement already satisfied: opencv-python>=4.6.0 in /usr/local/lib/python3.10/dist-packages (from ultralytics) (4.8.0.76)\n",
            "Requirement already satisfied: pillow>=7.1.2 in /usr/local/lib/python3.10/dist-packages (from ultralytics) (9.4.0)\n",
            "Requirement already satisfied: pyyaml>=5.3.1 in /usr/local/lib/python3.10/dist-packages (from ultralytics) (6.0.1)\n",
            "Requirement already satisfied: requests>=2.23.0 in /usr/local/lib/python3.10/dist-packages (from ultralytics) (2.31.0)\n",
            "Requirement already satisfied: scipy>=1.4.1 in /usr/local/lib/python3.10/dist-packages (from ultralytics) (1.11.4)\n",
            "Requirement already satisfied: torch>=1.8.0 in /usr/local/lib/python3.10/dist-packages (from ultralytics) (2.2.1+cu121)\n",
            "Requirement already satisfied: torchvision>=0.9.0 in /usr/local/lib/python3.10/dist-packages (from ultralytics) (0.17.1+cu121)\n",
            "Requirement already satisfied: tqdm>=4.64.0 in /usr/local/lib/python3.10/dist-packages (from ultralytics) (4.66.2)\n",
            "Requirement already satisfied: psutil in /usr/local/lib/python3.10/dist-packages (from ultralytics) (5.9.5)\n",
            "Requirement already satisfied: py-cpuinfo in /usr/local/lib/python3.10/dist-packages (from ultralytics) (9.0.0)\n",
            "Collecting thop>=0.1.1 (from ultralytics)\n",
            "  Downloading thop-0.1.1.post2209072238-py3-none-any.whl (15 kB)\n",
            "Requirement already satisfied: pandas>=1.1.4 in /usr/local/lib/python3.10/dist-packages (from ultralytics) (2.0.3)\n",
            "Requirement already satisfied: seaborn>=0.11.0 in /usr/local/lib/python3.10/dist-packages (from ultralytics) (0.13.1)\n",
            "Requirement already satisfied: contourpy>=1.0.1 in /usr/local/lib/python3.10/dist-packages (from matplotlib>=3.3.0->ultralytics) (1.2.1)\n",
            "Requirement already satisfied: cycler>=0.10 in /usr/local/lib/python3.10/dist-packages (from matplotlib>=3.3.0->ultralytics) (0.12.1)\n",
            "Requirement already satisfied: fonttools>=4.22.0 in /usr/local/lib/python3.10/dist-packages (from matplotlib>=3.3.0->ultralytics) (4.51.0)\n",
            "Requirement already satisfied: kiwisolver>=1.0.1 in /usr/local/lib/python3.10/dist-packages (from matplotlib>=3.3.0->ultralytics) (1.4.5)\n",
            "Requirement already satisfied: numpy>=1.20 in /usr/local/lib/python3.10/dist-packages (from matplotlib>=3.3.0->ultralytics) (1.25.2)\n",
            "Requirement already satisfied: packaging>=20.0 in /usr/local/lib/python3.10/dist-packages (from matplotlib>=3.3.0->ultralytics) (24.0)\n",
            "Requirement already satisfied: pyparsing>=2.3.1 in /usr/local/lib/python3.10/dist-packages (from matplotlib>=3.3.0->ultralytics) (3.1.2)\n",
            "Requirement already satisfied: python-dateutil>=2.7 in /usr/local/lib/python3.10/dist-packages (from matplotlib>=3.3.0->ultralytics) (2.8.2)\n",
            "Requirement already satisfied: pytz>=2020.1 in /usr/local/lib/python3.10/dist-packages (from pandas>=1.1.4->ultralytics) (2023.4)\n",
            "Requirement already satisfied: tzdata>=2022.1 in /usr/local/lib/python3.10/dist-packages (from pandas>=1.1.4->ultralytics) (2024.1)\n",
            "Requirement already satisfied: charset-normalizer<4,>=2 in /usr/local/lib/python3.10/dist-packages (from requests>=2.23.0->ultralytics) (3.3.2)\n",
            "Requirement already satisfied: idna<4,>=2.5 in /usr/local/lib/python3.10/dist-packages (from requests>=2.23.0->ultralytics) (3.7)\n",
            "Requirement already satisfied: urllib3<3,>=1.21.1 in /usr/local/lib/python3.10/dist-packages (from requests>=2.23.0->ultralytics) (2.0.7)\n",
            "Requirement already satisfied: certifi>=2017.4.17 in /usr/local/lib/python3.10/dist-packages (from requests>=2.23.0->ultralytics) (2024.2.2)\n",
            "Requirement already satisfied: filelock in /usr/local/lib/python3.10/dist-packages (from torch>=1.8.0->ultralytics) (3.13.4)\n",
            "Requirement already satisfied: typing-extensions>=4.8.0 in /usr/local/lib/python3.10/dist-packages (from torch>=1.8.0->ultralytics) (4.11.0)\n",
            "Requirement already satisfied: sympy in /usr/local/lib/python3.10/dist-packages (from torch>=1.8.0->ultralytics) (1.12)\n",
            "Requirement already satisfied: networkx in /usr/local/lib/python3.10/dist-packages (from torch>=1.8.0->ultralytics) (3.3)\n",
            "Requirement already satisfied: jinja2 in /usr/local/lib/python3.10/dist-packages (from torch>=1.8.0->ultralytics) (3.1.3)\n",
            "Requirement already satisfied: fsspec in /usr/local/lib/python3.10/dist-packages (from torch>=1.8.0->ultralytics) (2023.6.0)\n",
            "Collecting nvidia-cuda-nvrtc-cu12==12.1.105 (from torch>=1.8.0->ultralytics)\n",
            "  Using cached nvidia_cuda_nvrtc_cu12-12.1.105-py3-none-manylinux1_x86_64.whl (23.7 MB)\n",
            "Collecting nvidia-cuda-runtime-cu12==12.1.105 (from torch>=1.8.0->ultralytics)\n",
            "  Using cached nvidia_cuda_runtime_cu12-12.1.105-py3-none-manylinux1_x86_64.whl (823 kB)\n",
            "Collecting nvidia-cuda-cupti-cu12==12.1.105 (from torch>=1.8.0->ultralytics)\n",
            "  Using cached nvidia_cuda_cupti_cu12-12.1.105-py3-none-manylinux1_x86_64.whl (14.1 MB)\n",
            "Collecting nvidia-cudnn-cu12==8.9.2.26 (from torch>=1.8.0->ultralytics)\n",
            "  Using cached nvidia_cudnn_cu12-8.9.2.26-py3-none-manylinux1_x86_64.whl (731.7 MB)\n",
            "Collecting nvidia-cublas-cu12==12.1.3.1 (from torch>=1.8.0->ultralytics)\n",
            "  Using cached nvidia_cublas_cu12-12.1.3.1-py3-none-manylinux1_x86_64.whl (410.6 MB)\n",
            "Collecting nvidia-cufft-cu12==11.0.2.54 (from torch>=1.8.0->ultralytics)\n",
            "  Using cached nvidia_cufft_cu12-11.0.2.54-py3-none-manylinux1_x86_64.whl (121.6 MB)\n",
            "Collecting nvidia-curand-cu12==10.3.2.106 (from torch>=1.8.0->ultralytics)\n",
            "  Using cached nvidia_curand_cu12-10.3.2.106-py3-none-manylinux1_x86_64.whl (56.5 MB)\n",
            "Collecting nvidia-cusolver-cu12==11.4.5.107 (from torch>=1.8.0->ultralytics)\n",
            "  Using cached nvidia_cusolver_cu12-11.4.5.107-py3-none-manylinux1_x86_64.whl (124.2 MB)\n",
            "Collecting nvidia-cusparse-cu12==12.1.0.106 (from torch>=1.8.0->ultralytics)\n",
            "  Using cached nvidia_cusparse_cu12-12.1.0.106-py3-none-manylinux1_x86_64.whl (196.0 MB)\n",
            "Collecting nvidia-nccl-cu12==2.19.3 (from torch>=1.8.0->ultralytics)\n",
            "  Using cached nvidia_nccl_cu12-2.19.3-py3-none-manylinux1_x86_64.whl (166.0 MB)\n",
            "Collecting nvidia-nvtx-cu12==12.1.105 (from torch>=1.8.0->ultralytics)\n",
            "  Using cached nvidia_nvtx_cu12-12.1.105-py3-none-manylinux1_x86_64.whl (99 kB)\n",
            "Requirement already satisfied: triton==2.2.0 in /usr/local/lib/python3.10/dist-packages (from torch>=1.8.0->ultralytics) (2.2.0)\n",
            "Collecting nvidia-nvjitlink-cu12 (from nvidia-cusolver-cu12==11.4.5.107->torch>=1.8.0->ultralytics)\n",
            "  Using cached nvidia_nvjitlink_cu12-12.4.127-py3-none-manylinux2014_x86_64.whl (21.1 MB)\n",
            "Requirement already satisfied: six>=1.5 in /usr/local/lib/python3.10/dist-packages (from python-dateutil>=2.7->matplotlib>=3.3.0->ultralytics) (1.16.0)\n",
            "Requirement already satisfied: MarkupSafe>=2.0 in /usr/local/lib/python3.10/dist-packages (from jinja2->torch>=1.8.0->ultralytics) (2.1.5)\n",
            "Requirement already satisfied: mpmath>=0.19 in /usr/local/lib/python3.10/dist-packages (from sympy->torch>=1.8.0->ultralytics) (1.3.0)\n",
            "Installing collected packages: nvidia-nvtx-cu12, nvidia-nvjitlink-cu12, nvidia-nccl-cu12, nvidia-curand-cu12, nvidia-cufft-cu12, nvidia-cuda-runtime-cu12, nvidia-cuda-nvrtc-cu12, nvidia-cuda-cupti-cu12, nvidia-cublas-cu12, nvidia-cusparse-cu12, nvidia-cudnn-cu12, nvidia-cusolver-cu12, thop, ultralytics\n",
            "Successfully installed nvidia-cublas-cu12-12.1.3.1 nvidia-cuda-cupti-cu12-12.1.105 nvidia-cuda-nvrtc-cu12-12.1.105 nvidia-cuda-runtime-cu12-12.1.105 nvidia-cudnn-cu12-8.9.2.26 nvidia-cufft-cu12-11.0.2.54 nvidia-curand-cu12-10.3.2.106 nvidia-cusolver-cu12-11.4.5.107 nvidia-cusparse-cu12-12.1.0.106 nvidia-nccl-cu12-2.19.3 nvidia-nvjitlink-cu12-12.4.127 nvidia-nvtx-cu12-12.1.105 thop-0.1.1.post2209072238 ultralytics-8.2.4\n"
          ]
        }
      ]
    },
    {
      "cell_type": "code",
      "source": [
        "%pip install ultralytics\n",
        "import ultralytics\n",
        "ultralytics.checks()"
      ],
      "metadata": {
        "colab": {
          "base_uri": "https://localhost:8080/"
        },
        "id": "whZBAwy5u-Oa",
        "outputId": "5d6e6f6a-840d-4bd8-cba3-ae50a0a79393"
      },
      "execution_count": 4,
      "outputs": [
        {
          "output_type": "stream",
          "name": "stdout",
          "text": [
            "Ultralytics YOLOv8.2.4 🚀 Python-3.10.12 torch-2.2.1+cu121 CUDA:0 (Tesla T4, 15102MiB)\n",
            "Setup complete ✅ (2 CPUs, 12.7 GB RAM, 28.8/78.2 GB disk)\n"
          ]
        }
      ]
    },
    {
      "cell_type": "code",
      "source": [
        "!yolo predict model=yolov8n.pt source='download.jpg'"
      ],
      "metadata": {
        "colab": {
          "base_uri": "https://localhost:8080/"
        },
        "id": "5yE8yDGevHex",
        "outputId": "fbbf671e-a287-4511-89ba-f3c3ff75177c"
      },
      "execution_count": 5,
      "outputs": [
        {
          "output_type": "stream",
          "name": "stdout",
          "text": [
            "Downloading https://github.com/ultralytics/assets/releases/download/v8.2.0/yolov8n.pt to 'yolov8n.pt'...\n",
            "100% 6.23M/6.23M [00:00<00:00, 85.5MB/s]\n",
            "Ultralytics YOLOv8.2.4 🚀 Python-3.10.12 torch-2.2.1+cu121 CUDA:0 (Tesla T4, 15102MiB)\n",
            "YOLOv8n summary (fused): 168 layers, 3151904 parameters, 0 gradients, 8.7 GFLOPs\n",
            "\n",
            "Downloading https://ultralytics.com/images/zidane.jpg to 'zidane.jpg'...\n",
            "100% 165k/165k [00:00<00:00, 7.65MB/s]\n",
            "image 1/1 /content/zidane.jpg: 384x640 2 persons, 1 tie, 86.4ms\n",
            "Speed: 12.9ms preprocess, 86.4ms inference, 2807.1ms postprocess per image at shape (1, 3, 384, 640)\n",
            "Results saved to \u001b[1mruns/detect/predict\u001b[0m\n",
            "💡 Learn more at https://docs.ultralytics.com/modes/predict\n"
          ]
        }
      ]
    },
    {
      "cell_type": "code",
      "source": [
        "# Download COCO val\n",
        "import torch\n",
        "torch.hub.download_url_to_file('https://ultralytics.com/assets/coco2017val.zip', 'tmp.zip')  # download (780M - 5000 images)\n",
        "!unzip -q tmp.zip -d datasets && rm tmp.zip  # unzip\n",
        "# Validate YOLOv8n on COCO8 val\n",
        "!yolo val model=yolov8n.pt data=coco8.yaml"
      ],
      "metadata": {
        "colab": {
          "base_uri": "https://localhost:8080/"
        },
        "id": "sJUqOiWEvYu0",
        "outputId": "05243b7f-f7a7-4e14-c67f-26b6e225688c"
      },
      "execution_count": 6,
      "outputs": [
        {
          "output_type": "stream",
          "name": "stderr",
          "text": [
            "100%|██████████| 780M/780M [00:07<00:00, 110MB/s]\n"
          ]
        },
        {
          "output_type": "stream",
          "name": "stdout",
          "text": [
            "Ultralytics YOLOv8.2.4 🚀 Python-3.10.12 torch-2.2.1+cu121 CUDA:0 (Tesla T4, 15102MiB)\n",
            "YOLOv8n summary (fused): 168 layers, 3151904 parameters, 0 gradients, 8.7 GFLOPs\n",
            "\n",
            "Dataset 'coco8.yaml' images not found ⚠️, missing path '/content/datasets/coco8/images/val'\n",
            "Downloading https://ultralytics.com/assets/coco8.zip to '/content/datasets/coco8.zip'...\n",
            "100% 433k/433k [00:00<00:00, 12.4MB/s]\n",
            "Unzipping /content/datasets/coco8.zip to /content/datasets/coco8...: 100% 25/25 [00:00<00:00, 4403.38file/s]\n",
            "Dataset download success ✅ (0.9s), saved to \u001b[1m/content/datasets\u001b[0m\n",
            "\n",
            "Downloading https://ultralytics.com/assets/Arial.ttf to '/root/.config/Ultralytics/Arial.ttf'...\n",
            "100% 755k/755k [00:00<00:00, 17.7MB/s]\n",
            "\u001b[34m\u001b[1mval: \u001b[0mScanning /content/datasets/coco8/labels/val... 4 images, 0 backgrounds, 0 corrupt: 100% 4/4 [00:00<00:00, 170.53it/s]\n",
            "\u001b[34m\u001b[1mval: \u001b[0mNew cache created: /content/datasets/coco8/labels/val.cache\n",
            "                 Class     Images  Instances      Box(P          R      mAP50  mAP50-95): 100% 1/1 [00:03<00:00,  3.79s/it]\n",
            "                   all          4         17      0.621      0.833      0.888       0.63\n",
            "                person          4         10      0.721        0.5      0.519      0.269\n",
            "                   dog          4          1       0.37          1      0.995      0.597\n",
            "                 horse          4          2      0.751          1      0.995      0.631\n",
            "              elephant          4          2      0.505        0.5      0.828      0.394\n",
            "              umbrella          4          1      0.564          1      0.995      0.995\n",
            "          potted plant          4          1      0.814          1      0.995      0.895\n",
            "Speed: 0.3ms preprocess, 58.7ms inference, 0.0ms loss, 476.3ms postprocess per image\n",
            "Results saved to \u001b[1mruns/detect/val\u001b[0m\n",
            "💡 Learn more at https://docs.ultralytics.com/modes/val\n"
          ]
        }
      ]
    },
    {
      "cell_type": "code",
      "source": [
        "for x in 'nsmlx':\n",
        "  !yolo val model=yolov8{x}.pt data=coco.yaml"
      ],
      "metadata": {
        "colab": {
          "base_uri": "https://localhost:8080/"
        },
        "id": "HaOSWG6pwBuN",
        "outputId": "12b90225-8c75-4edd-a433-9022733e06a4"
      },
      "execution_count": null,
      "outputs": [
        {
          "output_type": "stream",
          "name": "stdout",
          "text": [
            "Ultralytics YOLOv8.2.4 🚀 Python-3.10.12 torch-2.2.1+cu121 CUDA:0 (Tesla T4, 15102MiB)\n",
            "YOLOv8n summary (fused): 168 layers, 3151904 parameters, 0 gradients, 8.7 GFLOPs\n",
            "\u001b[34m\u001b[1mval: \u001b[0mScanning /content/datasets/coco/labels/val2017... 4952 images, 48 backgrounds, 0 corrupt: 100% 5000/5000 [00:02<00:00, 1877.11it/s]\n",
            "\u001b[34m\u001b[1mval: \u001b[0mNew cache created: /content/datasets/coco/labels/val2017.cache\n",
            "                 Class     Images  Instances      Box(P          R      mAP50  mAP50-95): 100% 313/313 [01:12<00:00,  4.33it/s]\n",
            "                   all       5000      36335      0.633      0.475      0.521      0.371\n",
            "                person       5000      10777      0.754      0.673      0.745      0.514\n",
            "               bicycle       5000        314      0.687      0.392      0.457      0.265\n",
            "                   car       5000       1918      0.646      0.515      0.561      0.364\n",
            "            motorcycle       5000        367       0.71       0.58      0.655      0.414\n",
            "              airplane       5000        143      0.814      0.766      0.832      0.653\n",
            "                   bus       5000        283      0.746      0.643      0.739       0.62\n",
            "                 train       5000        190      0.798       0.77      0.834      0.646\n",
            "                 truck       5000        414      0.549      0.399      0.435      0.293\n",
            "                  boat       5000        424      0.583        0.3      0.377       0.21\n",
            "         traffic light       5000        634      0.644      0.345      0.409      0.211\n",
            "          fire hydrant       5000        101       0.85      0.703      0.774      0.609\n",
            "             stop sign       5000         75      0.695       0.64      0.692       0.63\n",
            "         parking meter       5000         60      0.631        0.5      0.558      0.441\n",
            "                 bench       5000        411       0.57      0.258      0.296      0.193\n",
            "                  bird       5000        427      0.686      0.358      0.425      0.278\n",
            "                   cat       5000        202      0.776      0.824      0.856      0.652\n",
            "                   dog       5000        218      0.656      0.701      0.729      0.591\n",
            "                 horse       5000        272        0.7      0.653      0.693      0.525\n",
            "                 sheep       5000        354      0.609      0.667      0.662       0.46\n",
            "                   cow       5000        372      0.697      0.601      0.682      0.487\n",
            "              elephant       5000        252      0.702      0.833      0.821      0.629\n",
            "                  bear       5000         71      0.847      0.775      0.842      0.689\n",
            "                 zebra       5000        266      0.808      0.797      0.882      0.659\n",
            "               giraffe       5000        232      0.857      0.828      0.885      0.683\n",
            "              backpack       5000        371      0.489      0.156      0.197        0.1\n",
            "              umbrella       5000        407      0.631      0.504      0.542      0.359\n",
            "               handbag       5000        540      0.479      0.126      0.169     0.0848\n",
            "                   tie       5000        252      0.686      0.361      0.429      0.268\n",
            "              suitcase       5000        299      0.566      0.431      0.502      0.342\n",
            "               frisbee       5000        115      0.748      0.774      0.767      0.584\n",
            "                  skis       5000        241      0.609      0.323      0.366      0.188\n",
            "             snowboard       5000         69      0.483      0.319      0.388      0.266\n",
            "           sports ball       5000        260      0.713      0.438      0.474      0.328\n",
            "                  kite       5000        327      0.605       0.52      0.558       0.38\n",
            "          baseball bat       5000        145      0.585      0.386      0.403      0.216\n",
            "        baseball glove       5000        148      0.669      0.473      0.512      0.302\n",
            "            skateboard       5000        179      0.721      0.608      0.663      0.451\n",
            "             surfboard       5000        267      0.624      0.473      0.507      0.309\n",
            "         tennis racket       5000        225      0.702      0.618      0.671      0.397\n",
            "                bottle       5000       1013      0.612      0.387      0.454      0.298\n",
            "            wine glass       5000        341      0.659      0.352       0.42       0.27\n",
            "                   cup       5000        895      0.584      0.443      0.488       0.35\n",
            "                  fork       5000        215      0.583      0.318      0.389      0.263\n",
            "                 knife       5000        325      0.505      0.163      0.174      0.106\n",
            "                 spoon       5000        253       0.41      0.146       0.16     0.0988\n",
            "                  bowl       5000        623      0.589      0.494      0.529       0.39\n",
            "                banana       5000        370      0.549      0.319      0.374      0.233\n",
            "                 apple       5000        236      0.414      0.242      0.227      0.156\n",
            "              sandwich       5000        177       0.57      0.486      0.463      0.349\n",
            "                orange       5000        285      0.439      0.418      0.369      0.281\n",
            "              broccoli       5000        312      0.476       0.34      0.368      0.209\n",
            "                carrot       5000        365      0.446      0.293      0.307      0.189\n",
            "               hot dog       5000        125       0.76      0.432      0.497      0.364\n",
            "                 pizza       5000        284      0.658      0.613      0.658      0.503\n",
            "                 donut       5000        328      0.575      0.494      0.515      0.408\n",
            "                  cake       5000        310      0.533       0.39      0.437      0.292\n",
            "                 chair       5000       1771      0.581       0.34      0.403      0.257\n",
            "                 couch       5000        261      0.593      0.552      0.585      0.434\n",
            "          potted plant       5000        342      0.521      0.386      0.385      0.225\n",
            "                   bed       5000        163       0.55      0.552      0.589      0.427\n",
            "          dining table       5000        695      0.529       0.44      0.435      0.293\n",
            "                toilet       5000        179      0.721      0.737      0.775      0.642\n",
            "                    tv       5000        288      0.771      0.635      0.715      0.553\n",
            "                laptop       5000        231      0.682      0.662      0.699       0.58\n",
            "                 mouse       5000        106      0.634      0.651      0.708      0.527\n",
            "                remote       5000        283       0.43      0.223       0.27       0.16\n",
            "              keyboard       5000        153      0.595      0.604       0.65      0.482\n",
            "            cell phone       5000        262      0.548      0.351        0.4       0.28\n",
            "             microwave       5000         55      0.616      0.545      0.643      0.514\n",
            "                  oven       5000        143      0.643      0.448      0.511      0.349\n",
            "               toaster       5000          9      0.726      0.222      0.436      0.314\n",
            "                  sink       5000        225      0.568      0.444      0.508      0.337\n",
            "          refrigerator       5000        126      0.662      0.587       0.65      0.511\n",
            "                  book       5000       1129      0.489      0.111      0.197     0.0969\n",
            "                 clock       5000        267       0.75      0.607      0.667      0.457\n",
            "                  vase       5000        274      0.588      0.453      0.453      0.321\n",
            "              scissors       5000         36      0.689      0.333      0.332      0.278\n",
            "            teddy bear       5000        190      0.669      0.558      0.604       0.42\n",
            "            hair drier       5000         11          1          0    0.00492    0.00377\n",
            "            toothbrush       5000         57      0.402      0.193      0.236      0.164\n",
            "Speed: 0.2ms preprocess, 3.9ms inference, 0.0ms loss, 2.4ms postprocess per image\n",
            "Saving runs/detect/val2/predictions.json...\n",
            "\n",
            "Evaluating pycocotools mAP using runs/detect/val2/predictions.json and /content/datasets/coco/annotations/instances_val2017.json...\n",
            "loading annotations into memory...\n",
            "Done (t=0.43s)\n",
            "creating index...\n",
            "index created!\n",
            "Loading and preparing results...\n",
            "DONE (t=2.61s)\n",
            "creating index...\n",
            "index created!\n",
            "Running per image evaluation...\n",
            "Evaluate annotation type *bbox*\n",
            "DONE (t=64.32s).\n",
            "Accumulating evaluation results...\n",
            "DONE (t=18.11s).\n",
            " Average Precision  (AP) @[ IoU=0.50:0.95 | area=   all | maxDets=100 ] = 0.374\n",
            " Average Precision  (AP) @[ IoU=0.50      | area=   all | maxDets=100 ] = 0.526\n",
            " Average Precision  (AP) @[ IoU=0.75      | area=   all | maxDets=100 ] = 0.405\n",
            " Average Precision  (AP) @[ IoU=0.50:0.95 | area= small | maxDets=100 ] = 0.186\n",
            " Average Precision  (AP) @[ IoU=0.50:0.95 | area=medium | maxDets=100 ] = 0.410\n",
            " Average Precision  (AP) @[ IoU=0.50:0.95 | area= large | maxDets=100 ] = 0.535\n",
            " Average Recall     (AR) @[ IoU=0.50:0.95 | area=   all | maxDets=  1 ] = 0.320\n",
            " Average Recall     (AR) @[ IoU=0.50:0.95 | area=   all | maxDets= 10 ] = 0.533\n",
            " Average Recall     (AR) @[ IoU=0.50:0.95 | area=   all | maxDets=100 ] = 0.589\n",
            " Average Recall     (AR) @[ IoU=0.50:0.95 | area= small | maxDets=100 ] = 0.369\n",
            " Average Recall     (AR) @[ IoU=0.50:0.95 | area=medium | maxDets=100 ] = 0.654\n",
            " Average Recall     (AR) @[ IoU=0.50:0.95 | area= large | maxDets=100 ] = 0.768\n",
            "Results saved to \u001b[1mruns/detect/val2\u001b[0m\n",
            "💡 Learn more at https://docs.ultralytics.com/modes/val\n",
            "Downloading https://github.com/ultralytics/assets/releases/download/v8.2.0/yolov8s.pt to 'yolov8s.pt'...\n",
            "100% 21.5M/21.5M [00:00<00:00, 168MB/s]\n",
            "Ultralytics YOLOv8.2.4 🚀 Python-3.10.12 torch-2.2.1+cu121 CUDA:0 (Tesla T4, 15102MiB)\n",
            "YOLOv8s summary (fused): 168 layers, 11156544 parameters, 0 gradients, 28.6 GFLOPs\n",
            "\u001b[34m\u001b[1mval: \u001b[0mScanning /content/datasets/coco/labels/val2017.cache... 4952 images, 48 backgrounds, 0 corrupt: 100% 5000/5000 [00:00<?, ?it/s]\n",
            "                 Class     Images  Instances      Box(P          R      mAP50  mAP50-95): 100% 313/313 [01:27<00:00,  3.58it/s]\n",
            "                   all       5000      36335      0.682      0.563      0.613      0.447\n",
            "                person       5000      10777      0.789      0.716      0.794      0.573\n",
            "               bicycle       5000        314      0.708      0.449      0.566      0.342\n",
            "                   car       5000       1918      0.716      0.596      0.657      0.441\n",
            "            motorcycle       5000        367      0.773      0.651      0.733      0.479\n",
            "              airplane       5000        143      0.845      0.846      0.911      0.738\n",
            "                   bus       5000        283      0.813      0.754      0.818      0.701\n",
            "                 train       5000        190      0.835      0.847      0.891       0.69\n",
            "                 truck       5000        414      0.612      0.449      0.543      0.387\n",
            "                  boat       5000        424      0.637      0.409      0.475      0.266\n",
            "         traffic light       5000        634       0.73      0.451      0.524      0.275\n",
            "          fire hydrant       5000        101      0.881      0.762      0.844      0.683\n",
            "             stop sign       5000         75      0.803       0.72      0.761      0.683\n",
            "         parking meter       5000         60      0.699        0.6      0.669      0.509\n",
            "                 bench       5000        411       0.65      0.358      0.383      0.265\n",
            "                  bird       5000        427      0.671      0.454      0.518      0.347\n",
            "                   cat       5000        202      0.856      0.883      0.889      0.728\n",
            "                   dog       5000        218      0.745      0.778      0.802      0.672\n",
            "                 horse       5000        272      0.796      0.739       0.79       0.62\n",
            "                 sheep       5000        354      0.669      0.747       0.74      0.546\n",
            "                   cow       5000        372      0.751      0.694      0.747      0.564\n",
            "              elephant       5000        252      0.738      0.845       0.84      0.671\n",
            "                  bear       5000         71      0.842      0.859      0.895      0.741\n",
            "                 zebra       5000        266      0.844      0.856      0.908      0.717\n",
            "               giraffe       5000        232      0.882      0.871      0.917      0.732\n",
            "              backpack       5000        371      0.518      0.245      0.291      0.162\n",
            "              umbrella       5000        407      0.688       0.59      0.645      0.443\n",
            "               handbag       5000        540      0.547      0.235      0.293      0.161\n",
            "                   tie       5000        252      0.712      0.472      0.533      0.343\n",
            "              suitcase       5000        299       0.64      0.569      0.643      0.445\n",
            "               frisbee       5000        115      0.836       0.84      0.883      0.696\n",
            "                  skis       5000        241      0.667      0.407      0.478      0.258\n",
            "             snowboard       5000         69      0.614      0.464      0.531      0.393\n",
            "           sports ball       5000        260       0.74      0.535      0.582      0.422\n",
            "                  kite       5000        327      0.648      0.596      0.642      0.461\n",
            "          baseball bat       5000        145      0.624      0.539      0.551      0.336\n",
            "        baseball glove       5000        148       0.74      0.588      0.626      0.385\n",
            "            skateboard       5000        179      0.808      0.743      0.782      0.573\n",
            "             surfboard       5000        267      0.771      0.566       0.62      0.411\n",
            "         tennis racket       5000        225      0.796      0.747      0.787      0.537\n",
            "                bottle       5000       1013      0.657      0.506      0.565      0.387\n",
            "            wine glass       5000        341      0.709      0.475      0.572      0.371\n",
            "                   cup       5000        895      0.648      0.552      0.597      0.437\n",
            "                  fork       5000        215      0.677      0.459      0.561      0.388\n",
            "                 knife       5000        325      0.514      0.258      0.315      0.196\n",
            "                 spoon       5000        253       0.49      0.277       0.29      0.188\n",
            "                  bowl       5000        623      0.631      0.579      0.608      0.455\n",
            "                banana       5000        370      0.552      0.341       0.41      0.267\n",
            "                 apple       5000        236      0.442      0.272      0.248       0.18\n",
            "              sandwich       5000        177      0.535      0.486      0.528      0.398\n",
            "                orange       5000        285      0.487      0.372      0.381      0.294\n",
            "              broccoli       5000        312      0.502      0.365      0.389       0.23\n",
            "                carrot       5000        365      0.459      0.373      0.353      0.228\n",
            "               hot dog       5000        125      0.668      0.432      0.518      0.411\n",
            "                 pizza       5000        284      0.743       0.69      0.731      0.564\n",
            "                 donut       5000        328      0.597      0.552      0.564      0.449\n",
            "                  cake       5000        310      0.628      0.535      0.564      0.391\n",
            "                 chair       5000       1771      0.651      0.425      0.507      0.337\n",
            "                 couch       5000        261      0.639      0.613      0.656        0.5\n",
            "          potted plant       5000        342      0.537      0.427      0.463      0.286\n",
            "                   bed       5000        163      0.607       0.62      0.647      0.463\n",
            "          dining table       5000        695       0.57      0.475      0.484      0.335\n",
            "                toilet       5000        179      0.773      0.777      0.837      0.678\n",
            "                    tv       5000        288      0.725      0.708      0.777      0.606\n",
            "                laptop       5000        231      0.744      0.753      0.775      0.649\n",
            "                 mouse       5000        106      0.767      0.726       0.79      0.613\n",
            "                remote       5000        283      0.624      0.413      0.497       0.31\n",
            "              keyboard       5000        153       0.67      0.649       0.73      0.556\n",
            "            cell phone       5000        262      0.589      0.481      0.531       0.37\n",
            "             microwave       5000         55      0.685      0.712      0.767      0.617\n",
            "                  oven       5000        143      0.639      0.558      0.606      0.412\n",
            "               toaster       5000          9      0.621      0.731       0.82      0.608\n",
            "                  sink       5000        225      0.625      0.538      0.606      0.398\n",
            "          refrigerator       5000        126      0.794      0.673      0.775      0.644\n",
            "                  book       5000       1129      0.536      0.162      0.257      0.137\n",
            "                 clock       5000        267      0.713       0.67      0.714      0.503\n",
            "                  vase       5000        274       0.61      0.536      0.542      0.388\n",
            "              scissors       5000         36      0.671      0.389      0.434       0.35\n",
            "            teddy bear       5000        190      0.741      0.632      0.676      0.515\n",
            "            hair drier       5000         11          1          0      0.114     0.0511\n",
            "            toothbrush       5000         57      0.472      0.368      0.343       0.24\n",
            "Speed: 0.3ms preprocess, 7.0ms inference, 0.0ms loss, 2.1ms postprocess per image\n",
            "Saving runs/detect/val3/predictions.json...\n",
            "\n",
            "Evaluating pycocotools mAP using runs/detect/val3/predictions.json and /content/datasets/coco/annotations/instances_val2017.json...\n",
            "loading annotations into memory...\n",
            "Done (t=0.55s)\n",
            "creating index...\n",
            "index created!\n",
            "Loading and preparing results...\n",
            "DONE (t=4.92s)\n",
            "creating index...\n",
            "index created!\n",
            "Running per image evaluation...\n",
            "Evaluate annotation type *bbox*\n"
          ]
        }
      ]
    }
  ]
}